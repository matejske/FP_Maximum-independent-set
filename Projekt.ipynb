{
 "cells": [
  {
   "cell_type": "code",
   "execution_count": 1,
   "metadata": {
    "collapsed": false,
    "scrolled": true
   },
   "outputs": [
   ],
   "source": [
    "#Opomba: Mnozica I predstavlja najvecjo mnozico neodvisnih vozlisc\n",
    "import time\n",
    "import random\n",
    "import csv\n",
    "\n",
    "# CLP =================================================================================================================================\n",
    "def clp(graf):\n",
    "    zac = time.time() #Zacetek merjenja casa\n",
    "\n",
    "    CLP = MixedIntegerLinearProgram(maximization = True) #CLP, ki ga bomo maximizirali\n",
    "    vozlisca = CLP.new_variable(binary = True) #Vsakemu vozliscu priredimo vrednost 1 ali 0 (binarne spremenljivke)\n",
    "    CLP.set_objective(sum([vozlisca[v] for v in graf.vertices()])) #Definiramo kriterijsko funkcijo\n",
    "\n",
    "    for u,v in graf.edges(labels = False):\n",
    "        CLP.add_constraint(vozlisca[u] + vozlisca[v] <= 1) #Prvi pogoj CLP\n",
    "\n",
    "    moc_max = CLP.solve() #resi CLP in nam pove Moc mnozice I\n",
    "    vozlisca = CLP.get_values(vozlisca) #za vsako vozlisce dobimo njegovo vrednost x_v\n",
    "\n",
    "    #Seznam vozlisc v mnozici I:\n",
    "    sez = [k for k, v in vozlisca.items() if v == 1.0]\n",
    "\n",
    "    #Merjenje casa:\n",
    "    kon = time.time()\n",
    "    cas = kon - zac\n",
    "    return [int(moc_max), sez, cas]\n",
    "\n",
    "\n",
    "# Relaksacija CLP ==========================================================================================================================\n",
    "def rclp(graf):\n",
    "    zac = time.time() #Zacetek merjenja casa\n",
    "\n",
    "    RCLP = MixedIntegerLinearProgram(maximization = True) #Relak. CLP, ki ga bomo maximizirali\n",
    "    vozlisca = RCLP.new_variable(real = True) #Vsakemu vozliscu priredimo vrednost 1 ali 0\n",
    "    RCLP.set_max(vozlisca,1)\n",
    "    RCLP.set_min(vozlisca,0)\n",
    "    RCLP.set_objective(sum([vozlisca[v] for v in graf.vertices()])) #Kriterijska funkcija\n",
    "\n",
    "    for u,v in graf.edges(labels = False):\n",
    "        RCLP.add_constraint(vozlisca[u] + vozlisca[v] <= 1) #Prvi pogoj\n",
    "\n",
    "    RCLP.solve()\n",
    "    vozlisca = RCLP.get_values(vozlisca)\n",
    "\n",
    "    #Seznam vozlisc v mnozici I:\n",
    "    sez = [k for k, v in vozlisca.items() if v > 0.5]\n",
    "\n",
    "    #Moc mnozice I:\n",
    "    moc_max = len(sez)\n",
    "\n",
    "    #Merjenje casa:\n",
    "    kon = time.time()\n",
    "    cas = kon - zac\n",
    "    return [int(moc_max), sez, cas]\n",
    "\n",
    "\n",
    "# Lokalno iskanje ==========================================================================================================================\n",
    "def lokalno_iskanje(graf, st_ponovitev):\n",
    "    moc_max = 0 #moc največje neodvisne mnozice vozlisc\n",
    "    max_mnozica_neod = [] #največja mnozica neodvisnih vozlisc\n",
    "    zac = time.time()\n",
    "\n",
    "    for i in range(st_ponovitev):\n",
    "        mnozica_neod = set() #mnozica neodvisnih vozlisc\n",
    "        mnozica_neod.add(graf.random_vertex()) #dodamo nakljucno vozlisce v seznam_neod\n",
    "        for v in random.sample(graf.vertices(), len(graf.vertices())):\n",
    "            if not any(u in mnozica_neod for u in graf[v]): # ali je kateri od sosedov vozlišča v v množici? #VPRASANJE: Kaj pomeni graf[v]\n",
    "                    mnozica_neod.add(v)\n",
    "        if len(mnozica_neod) > moc_max: #iscemo najvecjo mnozico neodvisnih vozlisc\n",
    "            max_mnozica_neod = mnozica_neod\n",
    "            moc_max = len(mnozica_neod)\n",
    "\n",
    "    #Merjenje casa:\n",
    "    kon = time.time()\n",
    "    cas = kon - zac\n",
    "    return[moc_max, max_mnozica_neod, cas]"
   ]
  },
  {
   "cell_type": "code",
   "execution_count": 2,
   "metadata": {
    "collapsed": false
   },
   "outputs": [
   ],
   "source": [
    "# Funkcija za testiranje vseh treh algoritmov na nakljucnem grafu:\n",
    "# testiraj(stevilo vozlisc, verjetnost povezave med dvema vozliscema, stevilo ponovitev lokalnega iskanja) =======================================\n",
    "def testiraj(st_vozlisc, verjetnost, st_ponovitev=10):\n",
    "    rezultati = []\n",
    "    graf = graphs.RandomGNP(st_vozlisc, verjetnost)\n",
    "    rezultati.append(clp(graf))\n",
    "    rezultati.append(rclp(graf))\n",
    "    rezultati.append(lokalno_iskanje(graf, st_ponovitev))\n",
    "    return sum(rezultati, []) #Seznam seznamov se stakne v en sam seznam"
   ]
  },
  {
   "cell_type": "code",
   "execution_count": 3,
   "metadata": {
    "collapsed": false
   },
   "outputs": [
    {
     "data": {
      "text/plain": [
       "[3,\n",
       " [1, 2, 4],\n",
       " 0.04898214340209961,\n",
       " 1,\n",
       " [4],\n",
       " 0.0009739398956298828,\n",
       " 3,\n",
       " {1, 2, 4},\n",
       " 0.0007917881011962891]"
      ]
     },
     "execution_count": 3,
     "metadata": {
     },
     "output_type": "execute_result"
    }
   ],
   "source": [
    "testiraj(6,0.6,1)"
   ]
  },
  {
   "cell_type": "code",
   "execution_count": 4,
   "metadata": {
    "collapsed": false,
    "scrolled": true
   },
   "outputs": [
   ],
   "source": [
    "# Funkcija za izpis v CSV v mapo 'Rezultati_testov' (izvede zgornjo funkcijo 'testiraj' na grafih s številom vozlisc od 1 do max_stevilo_vozlisc, pri dolocenih verjetnostih povezave dveh vozlisc in dolocenem stevilu ponovitev lokalnega iskanja):\n",
    "def izpis_csv(max_stevilo_vozlisc, verjetnost, st_ponovitev):\n",
    "    trenutni_cas = time.strftime(\"%Y-%m-%d_%H-%M-%S\")\n",
    "    with open('Rezultati_testov/test_{}.csv'.format(trenutni_cas), 'wb') as csvfile:\n",
    "        filewriter = csv.writer(csvfile, delimiter=';',\n",
    "                                quotechar='|', quoting=csv.QUOTE_MINIMAL)\n",
    "        filewriter.writerow(['ST_VOZLISC', 'VERJETNOST', 'ST_PONOVITEV_LOKISK',\n",
    "                             'CLP_MAX_MOC', 'CLP_VOZLISCA_I', 'CLP_CAS', \n",
    "                             'RCLP_MAX_MOC', 'RCLP_VOZLISCA_I', 'RCLP_CAS',\n",
    "                             'LOKISK_MAX_MOC', 'LOKISK_VOZLISCA_I', 'LOKISK_CAS']) #zacena vrstica z imeni stolpcev\n",
    "        for i in range(1, max_stevilo_vozlisc + 1):\n",
    "            filewriter.writerow(sum([[i], [verjetnost], [st_ponovitev], testiraj(i, verjetnost, st_ponovitev)], []))"
   ]
  },
  {
   "cell_type": "code",
   "execution_count": 5,
   "metadata": {
    "collapsed": false
   },
   "outputs": [
   ],
   "source": [
    "izpis_csv(50, 0.3, 15)"
   ]
  },
  {
   "cell_type": "code",
   "execution_count": 0,
   "metadata": {
    "collapsed": false
   },
   "outputs": [
   ],
   "source": [
   ]
  }
 ],
 "metadata": {
  "kernelspec": {
   "display_name": "SageMath (stable)",
   "language": "sagemath",
   "metadata": {
    "cocalc": {
     "description": "Open-source mathematical software system",
     "priority": 10,
     "url": "https://www.sagemath.org/"
    }
   },
   "name": "sagemath"
  },
  "language_info": {
   "codemirror_mode": {
    "name": "ipython",
    "version": 2
   },
   "file_extension": ".py",
   "mimetype": "text/x-python",
   "name": "python",
   "nbconvert_exporter": "python",
   "pygments_lexer": "ipython2",
   "version": "2.7.15"
  }
 },
 "nbformat": 4,
 "nbformat_minor": 0
}
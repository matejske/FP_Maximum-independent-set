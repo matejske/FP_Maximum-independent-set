{
 "cells": [
  {
   "cell_type": "code",
   "execution_count": 1,
   "metadata": {
    "collapsed": false,
    "scrolled": true
   },
   "outputs": [
   ],
   "source": [
    "import time\n",
    "import csv\n",
    "\n",
    "# CLP =================================================================================================================================\n",
    "def clp(graf):\n",
    "    zac = time.time() #Zacetek merjenja casa\n",
    "\n",
    "    CLP = MixedIntegerLinearProgram(maximization = True) #CLP, ki ga bomo maximizirali\n",
    "    vozlisca = CLP.new_variable(binary = True) #Vsakemu vozliscu priredimo vrednost 1 ali 0 (binarne spremenljivke)\n",
    "    CLP.set_objective(sum([vozlisca[v] for v in graf.vertices()])) #Definiramo kriterijsko funkcijo\n",
    "\n",
    "    for u,v in graf.edges(labels = False):\n",
    "        CLP.add_constraint(vozlisca[u] + vozlisca[v] <= 1) #Prvi pogoj CLP\n",
    "\n",
    "    CLP.solve() #resi CLP\n",
    "    vozlisca = CLP.get_values(vozlisca) #za vsako vozlisce dobimo njegovo vrednost\n",
    "\n",
    "    #Moc mnozice I:\n",
    "    st = 0\n",
    "    for i in vozlisca:\n",
    "        st = st + vozlisca[i]\n",
    "\n",
    "    #Seznam vozlisc v mnozici I:\n",
    "    sez = []\n",
    "    for i in vozlisca:\n",
    "        if vozlisca[i] == 1.0:\n",
    "            sez.append(i)\n",
    "\n",
    "    #Merjenje casa:\n",
    "    kon = time.time()\n",
    "    cas = kon - zac\n",
    "    return [st, sez, cas]\n",
    "\n",
    "\n",
    "# Relaksacija CLP ==========================================================================================================================\n",
    "def rclp(graf):\n",
    "    zac = time.time() #Zacetek merjenja casa\n",
    "\n",
    "    RCLP = MixedIntegerLinearProgram(maximization = True) #Relak. CLP, ki ga bomo maximizirali\n",
    "    vozlisca_RCLP = RCLP.new_variable(real = True) #Vsakemu vozliscu priredimo vrednost 1 ali 0\n",
    "    RCLP.set_max(vozlisca_RCLP,1)\n",
    "    RCLP.set_min(vozlisca_RCLP,0)\n",
    "    RCLP.set_objective(sum([vozlisca_RCLP[v] for v in graf.vertices()])) #Kriterijska funkcija\n",
    "\n",
    "    for u,v in graf.edges(labels = False):\n",
    "        RCLP.add_constraint(vozlisca_RCLP[u] + vozlisca_RCLP[v] <= 1) #Prvi pogoj \n",
    "\n",
    "    RCLP.solve()\n",
    "    vozlisca_RCLP = RCLP.get_values(vozlisca_RCLP)\n",
    "\n",
    "    #Moc mnozice I: %% ALI JE TO SPLOH SMISELNO? %%\n",
    "    st = 0\n",
    "    for i in vozlisca_RCLP:\n",
    "        st = st + vozlisca_RCLP[i]\n",
    "\n",
    "    #Merjenje casa:\n",
    "    kon = time.time()\n",
    "    cas = kon - zac\n",
    "    return [st, None, cas]\n",
    "\n",
    "\n",
    "# Lokalno iskanje ==========================================================================================================================\n",
    "def lokalno_iskanje(graf, st_ponovitev):\n",
    "    moc_max = 0 #moc največje neodvisne mnozice vozlisc\n",
    "    max_seznam_neod = [] #največja mnozica neodvisnih vozlisc\n",
    "    zac = time.time()\n",
    "\n",
    "    for i in range(st_ponovitev):\n",
    "        seznam_neod = [] #seznam neodvisnih vozlisc\n",
    "        seznam_neod.append(graf.random_vertex()) #dodamo nakljucno vozlisce v seznam_neod\n",
    "        for v in graf.vertices():\n",
    "            if v in seznam_neod: #ce je v ze v seznam_neod, nadaljujemo\n",
    "                continue\n",
    "            else:\n",
    "                indikator = 0\n",
    "                for i in seznam_neod:\n",
    "                    if (i,v) in graf.edges(labels=False) or (v,i) in graf.edges(labels=False):\n",
    "                        indikator = 1\n",
    "                if indikator == 0:\n",
    "                    seznam_neod.append(v) #ce ni povezave med vozlisci v seznam_neod in v, v dodamo v seznam_neod\n",
    "        if len(seznam_neod) > moc_max: #iscemo najvecjo mnozico neodvisnih vozlisc\n",
    "            max_seznam_neod = seznam_neod\n",
    "            moc_max = len(seznam_neod)\n",
    "    #Merjenje casa:\n",
    "    kon = time.time()\n",
    "    cas = kon - zac\n",
    "    max_seznam_neod.sort() #Ureditev max mnozice neodvisnih vozlisc\n",
    "    return[moc_max, max_seznam_neod, cas]"
   ]
  },
  {
   "cell_type": "code",
   "execution_count": 2,
   "metadata": {
    "collapsed": false
   },
   "outputs": [
   ],
   "source": [
    "# Funkcija za testiranje vseh treh algoritmov na nakljucnem grafu:\n",
    "# testiraj(stevilo vozlisc, verjetnost povezave med dvema vozliscema, stevilo ponovitev lokalnega iskanja) =======================================\n",
    "def testiraj(st_vozlisc, verjetnost, st_ponovitev=10):\n",
    "    rezultati = []\n",
    "    graf = graphs.RandomGNP(st_vozlisc, verjetnost)\n",
    "    rezultati.append(clp(graf))\n",
    "    rezultati.append(rclp(graf))\n",
    "    rezultati.append(lokalno_iskanje(graf, st_ponovitev))\n",
    "    return rezultati"
   ]
  },
  {
   "cell_type": "code",
   "execution_count": 3,
   "metadata": {
    "collapsed": false
   },
   "outputs": [
    {
     "data": {
      "text/plain": [
       "[[6.0, [2, 4, 5, 6, 8, 9], 0.0377810001373291],\n",
       " [6.0, None, 0.0020787715911865234],\n",
       " [6, [2, 4, 5, 6, 8, 9], 0.017839908599853516]]"
      ]
     },
     "execution_count": 3,
     "metadata": {
     },
     "output_type": "execute_result"
    }
   ],
   "source": [
    "testiraj(10,0.2,30)"
   ]
  },
  {
   "cell_type": "code",
   "execution_count": 4,
   "metadata": {
    "collapsed": false
   },
   "outputs": [
   ],
   "source": [
    "# Funkcija za izapis v CSV (izvede zgornjo funkcijo 'testiraj' na grafih s številom vozlisc od 1 do max_stevilo_vozlisc, pri dolocenih verjetnostih povezave dveh vozlisc in dolocenem stevilu ponovitev lokalnega iskanja):\n",
    "def izpis_csv(max_stevilo_vozlisc, verjetnost, st_ponovitev):\n",
    "    trenutni_cas = time.strftime(\"%Y-%m-%d_%H-%M-%S\")\n",
    "    with open('osebe_trenutni_cas.csv', 'wb') as csvfile:\n",
    "        filewriter = csv.writer(csvfile, delimiter=';',\n",
    "                                quotechar='|', quoting=csv.QUOTE_MINIMAL)\n",
    "\n",
    "        filewriter.writerow([['CLP_MAX_MOC', 'CLP_VOZLISCA_I','CLP_CAS'], ['RCLP_MAX_MOC', 'Neuporabno','RCLP_CAS'], ['LOKISK_MAX_MOC', 'LOKISK_VOZLISCA_I','LOKISK_CAS']])\n",
    "                             \n",
    "        for i in range(1, max_stevilo_vozlisc + 1):\n",
    "                             filewriter.writerow(testiraj(i, verjetnost, st_ponovitev))\n"
   ]
  },
  {
   "cell_type": "code",
   "execution_count": 5,
   "metadata": {
    "collapsed": false
   },
   "outputs": [
   ],
   "source": [
    "izpis_csv(8,0.3,5)"
   ]
  }
 ],
 "metadata": {
  "kernelspec": {
   "display_name": "SageMath (stable)",
   "language": "sagemath",
   "metadata": {
    "cocalc": {
     "description": "Open-source mathematical software system",
     "priority": 10,
     "url": "https://www.sagemath.org/"
    }
   },
   "name": "sagemath"
  },
  "language_info": {
   "codemirror_mode": {
    "name": "ipython",
    "version": 2
   },
   "file_extension": ".py",
   "mimetype": "text/x-python",
   "name": "python",
   "nbconvert_exporter": "python",
   "pygments_lexer": "ipython2",
   "version": "2.7.15"
  }
 },
 "nbformat": 4,
 "nbformat_minor": 0
}
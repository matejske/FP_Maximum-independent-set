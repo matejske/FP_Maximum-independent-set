{
 "cells": [
  {
   "cell_type": "code",
   "execution_count": 10,
   "metadata": {
    "collapsed": false,
    "scrolled": true
   },
   "outputs": [
   ],
   "source": [
    "#Opomba: Mnozica I predstavlja najvecjo mnozico neodvisnih vozlisc\n",
    "import time\n",
    "import random\n",
    "import csv\n",
    "\n",
    "# CLP =================================================================================================================================\n",
    "def clp(graf):\n",
    "    zac = time.time() #Zacetek merjenja casa\n",
    "\n",
    "    CLP = MixedIntegerLinearProgram(maximization = True) #CLP, ki ga bomo maximizirali\n",
    "    vozlisca = CLP.new_variable(binary = True) #Vsakemu vozliscu priredimo vrednost 1 ali 0 (binarne spremenljivke)\n",
    "    CLP.set_objective(sum([vozlisca[v] for v in graf.vertices()])) #Definiramo kriterijsko funkcijo\n",
    "\n",
    "    for u,v in graf.edges(labels = False):\n",
    "        CLP.add_constraint(vozlisca[u] + vozlisca[v] <= 1) #Prvi pogoj CLP\n",
    "\n",
    "    moc_max = CLP.solve() #resi CLP in nam pove Moc mnozice I\n",
    "    vozlisca = CLP.get_values(vozlisca) #za vsako vozlisce dobimo njegovo vrednost x_v\n",
    "\n",
    "    #Seznam vozlisc v mnozici I:\n",
    "    sez = [k for k, v in vozlisca.items() if v == 1.0]\n",
    "\n",
    "    #Merjenje casa:\n",
    "    kon = time.time() #Zaključek merjenja časa\n",
    "    cas = kon - zac\n",
    "    return [int(moc_max), sez, cas]\n",
    "\n",
    "\n",
    "# Relaksacija CLP ==========================================================================================================================\n",
    "def rclp(graf):\n",
    "    zac = time.time() #Zacetek merjenja casa\n",
    "\n",
    "    RCLP = MixedIntegerLinearProgram(maximization = True) #Relak. CLP, ki ga bomo maximizirali\n",
    "    vozlisca = RCLP.new_variable(real = True) #Vozliščem priredimo vrednosti med 0 in 1\n",
    "    RCLP.set_max(vozlisca,1)\n",
    "    RCLP.set_min(vozlisca,0)\n",
    "    RCLP.set_objective(sum([vozlisca[v] for v in graf.vertices()])) #Kriterijska funkcija\n",
    "\n",
    "    for u,v in graf.edges(labels = False):\n",
    "        RCLP.add_constraint(vozlisca[u] + vozlisca[v] <= 1) #Prvi pogoj\n",
    "\n",
    "    RCLP.solve()\n",
    "    vozlisca = RCLP.get_values(vozlisca)\n",
    "\n",
    "    #Seznam vozlisc v mnozici I:\n",
    "    sez = [k for k, v in vozlisca.items() if v > 0.5] #izberemo tista vozlisca iz slovarja \"vozlisca\", ki imajo vrednost > 0.5\n",
    "\n",
    "    #Moc mnozice I:\n",
    "    moc_max = len(sez)\n",
    "\n",
    "    #Merjenje casa:\n",
    "    kon = time.time() #Zaključek merjenja časa\n",
    "    cas = kon - zac\n",
    "    return [int(moc_max), sez, cas]\n",
    "\n",
    "\n",
    "# Lokalno iskanje ==========================================================================================================================\n",
    "def lokalno_iskanje(graf, st_ponovitev):\n",
    "    moc_max = 0 #moc največje neodvisne mnozice vozlisc\n",
    "    max_mnozica_neod = set() #največja mnozica neodvisnih vozlisc\n",
    "    zac = time.time() #Zacetek merjenja časa\n",
    "\n",
    "    for i in range(st_ponovitev):\n",
    "        mnozica_neod = set() #mnozica neodvisnih vozlisc\n",
    "        mnozica_neod.add(graf.random_vertex()) #dodamo nakljucno vozlisce v mnozica_neod\n",
    "        for v in random.sample(graf.vertices(), len(graf.vertices())):\n",
    "            if not any(u in mnozica_neod for u in graf[v]): #Ali je kateri od sosedov vozlišča v množici preverimo\n",
    "                    mnozica_neod.add(v)\n",
    "        if len(mnozica_neod) > moc_max: #iscemo najvecjo mnozico neodvisnih vozlisc\n",
    "            max_mnozica_neod = mnozica_neod\n",
    "            moc_max = len(mnozica_neod)\n",
    "\n",
    "    #Merjenje casa:\n",
    "    kon = time.time() #Zaključek merjenja časa\n",
    "    cas = kon - zac\n",
    "    return[moc_max, max_mnozica_neod, cas]"
   ]
  },
  {
   "cell_type": "code",
   "execution_count": 11,
   "metadata": {
    "collapsed": false
   },
   "outputs": [
   ],
   "source": [
    "# Funkcija za testiranje vseh treh algoritmov na nakljucnem grafu:\n",
    "# testiraj(stevilo vozlisc, verjetnost povezave med dvema vozliscema, stevilo ponovitev lokalnega iskanja) =======================================\n",
    "def testiraj(st_vozlisc, verjetnost, st_ponovitev=10):\n",
    "    rezultati = []\n",
    "    graf = graphs.RandomGNP(st_vozlisc, verjetnost)\n",
    "    rezultati.append(clp(graf))\n",
    "    rezultati.append(rclp(graf))\n",
    "    rezultati.append(lokalno_iskanje(graf, st_ponovitev))\n",
    "    return sum(rezultati, [])#, graf.show(vertex_colors={'red': clp(graf)[1]}) #Seznam seznamov se stakne v en sam seznam"
   ]
  },
  {
   "cell_type": "code",
   "execution_count": 12,
   "metadata": {
    "collapsed": false
   },
   "outputs": [
   ],
   "source": [
    "#testiraj(10,0.3,50)"
   ]
  },
  {
   "cell_type": "code",
   "execution_count": 13,
   "metadata": {
    "collapsed": false,
    "scrolled": true
   },
   "outputs": [
   ],
   "source": [
    "# Funkcija za izpis v CSV v mapo 'Rezultati_testov' (izvede zgornjo funkcijo 'testiraj' na grafih s številom vozlisc od 1 do max_stevilo_vozlisc, pri dolocenih verjetnostih povezave dveh vozlisc in dolocenem stevilu ponovitev lokalnega iskanja):\n",
    "def izpis_csv(max_stevilo_vozlisc, verjetnost, st_ponovitev):\n",
    "    #trenutni_cas = time.strftime(\"%Y-%m-%d_%H-%M-%S\")\n",
    "    with open('Rezultati_testov/test_{0}_{1}_{2}_CLP_cas_3.csv'.format(max_stevilo_vozlisc, verjetnost, st_ponovitev), 'wb') as csvfile:\n",
    "        filewriter = csv.writer(csvfile, delimiter=';',\n",
    "                                quotechar='|', quoting=csv.QUOTE_MINIMAL)\n",
    "        #filewriter.writerow([trenutni_cas])\n",
    "        filewriter.writerow(['ST_VOZLISC', 'VERJETNOST', 'ST_PONOVITEV_LOKISK',\n",
    "                             'CLP_MAX_MOC', 'CLP_VOZLISCA_I', 'CLP_CAS', \n",
    "                             'RCLP_MAX_MOC', 'RCLP_VOZLISCA_I', 'RCLP_CAS',\n",
    "                             'LOKISK_MAX_MOC', 'LOKISK_VOZLISCA_I', 'LOKISK_CAS']) #zacena vrstica z imeni stolpcev\n",
    "        for i in range(1, max_stevilo_vozlisc + 1, 100):\n",
    "            filewriter.writerow(sum([[i], [verjetnost], [st_ponovitev], testiraj(i, verjetnost, st_ponovitev)], []))"
   ]
  },
  {
   "cell_type": "code",
   "execution_count": 14,
   "metadata": {
    "collapsed": false,
    "scrolled": true
   },
   "outputs": [
   ],
   "source": [
    "#izpis_csv(2500, 0.3, 50)"
   ]
  },
  {
   "cell_type": "code",
   "execution_count": 15,
   "metadata": {
    "collapsed": false
   },
   "outputs": [
   ],
   "source": [
    "#show(graphs.PetersenGraph())\n",
    "def testirajPetersena(st_ponovitev=10):\n",
    "    rezultati = []\n",
    "    graf = graphs.PetersenGraph()\n",
    "    show(graf)\n",
    "    rezultati.append(clp(graf))\n",
    "    rezultati.append(rclp(graf))\n",
    "    rezultati.append(lokalno_iskanje(graf, st_ponovitev))\n",
    "    return sum(rezultati, [])#, graf.show(vertex_colors={'red': clp(graf)[1]}) #Seznam seznamov se stakne v en sam seznam\n",
    "\n",
    "#testirajPetersena(50)"
   ]
  },
  {
   "cell_type": "code",
   "execution_count": 16,
   "metadata": {
    "collapsed": false
   },
   "outputs": [
    {
     "data": {
      "text/plain": [
       "[0.004635810852050781, 0.0012600421905517578, 0.006648063659667969]"
      ]
     },
     "execution_count": 16,
     "metadata": {
     },
     "output_type": "execute_result"
    }
   ],
   "source": [
    "#show(graphs.CubeGraph(4))\n",
    "def testirajKocko(velikost, st_ponovitev=50):\n",
    "    rezultati = []\n",
    "    graf = graphs.CubeGraph(velikost)\n",
    "    #show(graf)\n",
    "    rezultati.append(clp(graf))\n",
    "    rezultati.append(rclp(graf))\n",
    "    rezultati.append(lokalno_iskanje(graf, st_ponovitev))\n",
    "    return sum(rezultati, [])#, graf.show(vertex_colors={'red': clp(graf)[1]}) #Seznam seznamov se stakne v en sam seznam\n",
    "\n",
    "testirajKocko(2, 50)"
   ]
  },
  {
   "cell_type": "code",
   "execution_count": 1,
   "metadata": {
    "collapsed": false
   },
   "outputs": [
    {
     "ename": "NameError",
     "evalue": "global name 'csv' is not defined",
     "output_type": "error",
     "traceback": [
      "\u001b[0;31m---------------------------------------------------------------------------\u001b[0m",
      "\u001b[0;31mNameError\u001b[0m                                 Traceback (most recent call last)",
      "\u001b[0;32m<ipython-input-1-22ebbda0acf1>\u001b[0m in \u001b[0;36m<module>\u001b[0;34m()\u001b[0m\n\u001b[1;32m      7\u001b[0m             \u001b[0mfilewriter\u001b[0m\u001b[0;34m.\u001b[0m\u001b[0mwriterow\u001b[0m\u001b[0;34m(\u001b[0m\u001b[0msum\u001b[0m\u001b[0;34m(\u001b[0m\u001b[0;34m[\u001b[0m\u001b[0;34m[\u001b[0m\u001b[0mInteger\u001b[0m\u001b[0;34m(\u001b[0m\u001b[0;36m2\u001b[0m\u001b[0;34m)\u001b[0m\u001b[0;34m**\u001b[0m\u001b[0mi\u001b[0m\u001b[0;34m]\u001b[0m\u001b[0;34m,\u001b[0m \u001b[0mtestirajKocko\u001b[0m\u001b[0;34m(\u001b[0m\u001b[0mi\u001b[0m\u001b[0;34m,\u001b[0m \u001b[0mst_ponovitev\u001b[0m\u001b[0;34m)\u001b[0m\u001b[0;34m]\u001b[0m\u001b[0;34m,\u001b[0m \u001b[0;34m[\u001b[0m\u001b[0;34m]\u001b[0m\u001b[0;34m)\u001b[0m\u001b[0;34m)\u001b[0m\u001b[0;34m\u001b[0m\u001b[0m\n\u001b[1;32m      8\u001b[0m \u001b[0;34m\u001b[0m\u001b[0m\n\u001b[0;32m----> 9\u001b[0;31m \u001b[0mizpis_csv_hiperkocka\u001b[0m\u001b[0;34m(\u001b[0m\u001b[0mInteger\u001b[0m\u001b[0;34m(\u001b[0m\u001b[0;36m30\u001b[0m\u001b[0;34m)\u001b[0m\u001b[0;34m,\u001b[0m \u001b[0mInteger\u001b[0m\u001b[0;34m(\u001b[0m\u001b[0;36m50\u001b[0m\u001b[0;34m)\u001b[0m\u001b[0;34m)\u001b[0m\u001b[0;34m\u001b[0m\u001b[0m\n\u001b[0m",
      "\u001b[0;32m<ipython-input-1-22ebbda0acf1>\u001b[0m in \u001b[0;36mizpis_csv_hiperkocka\u001b[0;34m(max_stevilo_vozlisc, st_ponovitev)\u001b[0m\n\u001b[1;32m      2\u001b[0m \u001b[0;32mdef\u001b[0m \u001b[0mizpis_csv_hiperkocka\u001b[0m\u001b[0;34m(\u001b[0m\u001b[0mmax_stevilo_vozlisc\u001b[0m\u001b[0;34m,\u001b[0m \u001b[0mst_ponovitev\u001b[0m\u001b[0;34m)\u001b[0m\u001b[0;34m:\u001b[0m\u001b[0;34m\u001b[0m\u001b[0m\n\u001b[1;32m      3\u001b[0m     \u001b[0;32mwith\u001b[0m \u001b[0mopen\u001b[0m\u001b[0;34m(\u001b[0m\u001b[0;34m'Rezultati_testov/test_hiperkocka_cas.csv'\u001b[0m\u001b[0;34m,\u001b[0m \u001b[0;34m'wb'\u001b[0m\u001b[0;34m)\u001b[0m \u001b[0;32mas\u001b[0m \u001b[0mcsvfile\u001b[0m\u001b[0;34m:\u001b[0m\u001b[0;34m\u001b[0m\u001b[0m\n\u001b[0;32m----> 4\u001b[0;31m         filewriter = csv.writer(csvfile, delimiter=';',\n\u001b[0m\u001b[1;32m      5\u001b[0m                                 quotechar='|', quoting=csv.QUOTE_MINIMAL)\n\u001b[1;32m      6\u001b[0m         \u001b[0;32mfor\u001b[0m \u001b[0mi\u001b[0m \u001b[0;32min\u001b[0m \u001b[0mrange\u001b[0m\u001b[0;34m(\u001b[0m\u001b[0mInteger\u001b[0m\u001b[0;34m(\u001b[0m\u001b[0;36m1\u001b[0m\u001b[0;34m)\u001b[0m\u001b[0;34m,\u001b[0m \u001b[0mmax_stevilo_vozlisc\u001b[0m \u001b[0;34m+\u001b[0m \u001b[0mInteger\u001b[0m\u001b[0;34m(\u001b[0m\u001b[0;36m1\u001b[0m\u001b[0;34m)\u001b[0m\u001b[0;34m)\u001b[0m\u001b[0;34m:\u001b[0m\u001b[0;34m\u001b[0m\u001b[0m\n",
      "\u001b[0;31mNameError\u001b[0m: global name 'csv' is not defined"
     ]
    }
   ],
   "source": [
    "# Funkcija za izpis v CSV v mapo 'Rezultati_testov' (izvede zgornjo funkcijo 'testiraj' na grafih s številom vozlisc od 1 do max_stevilo_vozlisc, pri dolocenih verjetnostih povezave dveh vozlisc in dolocenem stevilu ponovitev lokalnega iskanja):\n",
    "def izpis_csv_hiperkocka(max_stevilo_vozlisc, st_ponovitev):\n",
    "    with open('Rezultati_testov/test_hiperkocka_cas.csv', 'wb') as csvfile:\n",
    "        filewriter = csv.writer(csvfile, delimiter=';',\n",
    "                                quotechar='|', quoting=csv.QUOTE_MINIMAL)\n",
    "        for i in range(1, max_stevilo_vozlisc + 1):\n",
    "            filewriter.writerow(sum([[2^i], testirajKocko(i, st_ponovitev)], []))\n",
    "\n",
    "izpis_csv_hiperkocka(30, 50)"
   ]
  }
 ],
 "metadata": {
  "kernelspec": {
   "display_name": "SageMath (stable)",
   "language": "sagemath",
   "metadata": {
    "cocalc": {
     "description": "Open-source mathematical software system",
     "priority": 10,
     "url": "https://www.sagemath.org/"
    }
   },
   "name": "sagemath"
  },
  "language_info": {
   "codemirror_mode": {
    "name": "ipython",
    "version": 2
   },
   "file_extension": ".py",
   "mimetype": "text/x-python",
   "name": "python",
   "nbconvert_exporter": "python",
   "pygments_lexer": "ipython2",
   "version": "2.7.15"
  }
 },
 "nbformat": 4,
 "nbformat_minor": 0
}
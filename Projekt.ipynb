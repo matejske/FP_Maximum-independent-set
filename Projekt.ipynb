{
 "cells": [
  {
   "cell_type": "code",
   "execution_count": 21,
   "metadata": {
    "collapsed": false,
    "scrolled": true
   },
   "outputs": [
   ],
   "source": [
    "import time\n",
    "import csv\n",
    "# CLP =================================================================================================================================\n",
    "def clp(graf):\n",
    "    zac = time.time() #Zacetek merjenja casa\n",
    "\n",
    "    CLP = MixedIntegerLinearProgram(maximization = True) #CLP, ki ga bomo maximizirali\n",
    "    vozlisca = CLP.new_variable(binary = True) #Vsakemu vozliscu priredimo vrednost 1 ali 0 (binarne spremenljivke)\n",
    "    CLP.set_objective(sum([vozlisca[v] for v in graf.vertices()])) #Definiramo kriterijsko funkcijo\n",
    "\n",
    "    for u,v in graf.edges(labels = False):\n",
    "        CLP.add_constraint(vozlisca[u] + vozlisca[v] <= 1) #Prvi pogoj CLP\n",
    "\n",
    "    moc_max = CLP.solve() #resi CLP in nam pove moc najvecje mnozice neodvisnih\n",
    "    vozlisca = CLP.get_values(vozlisca) #za vsako vozlisce dobimo njegovo vrednost\n",
    "\n",
    "    #Seznam vozlisc v mnozici I:\n",
    "    sez = []\n",
    "    for i in vozlisca:\n",
    "        if vozlisca[i] == 1.0:\n",
    "            sez.append(i)\n",
    "\n",
    "    #Merjenje casa:\n",
    "    kon = time.time()\n",
    "    cas = kon - zac\n",
    "    return [int(moc_max), sez, cas]\n",
    "\n",
    "\n",
    "# Relaksacija CLP ==========================================================================================================================\n",
    "def rclp(graf):\n",
    "    zac = time.time() #Zacetek merjenja casa\n",
    "\n",
    "    RCLP = MixedIntegerLinearProgram(maximization = True) #Relak. CLP, ki ga bomo maximizirali\n",
    "    vozlisca_RCLP = RCLP.new_variable(real = True) #Vsakemu vozliscu priredimo vrednost 1 ali 0\n",
    "    RCLP.set_max(vozlisca_RCLP,1)\n",
    "    RCLP.set_min(vozlisca_RCLP,0)\n",
    "    RCLP.set_objective(sum([vozlisca_RCLP[v] for v in graf.vertices()])) #Kriterijska funkcija\n",
    "\n",
    "    for u,v in graf.edges(labels = False):\n",
    "        RCLP.add_constraint(vozlisca_RCLP[u] + vozlisca_RCLP[v] <= 1) #Prvi pogoj \n",
    "\n",
    "    RCLP.solve()\n",
    "    vozlisca_RCLP = RCLP.get_values(vozlisca_RCLP)\n",
    "\n",
    "    #Moc mnozice I: %% ALI JE TO SPLOH SMISELNO? %%\n",
    "    st = 0\n",
    "    for i in vozlisca_RCLP:\n",
    "        st = st + vozlisca_RCLP[i]\n",
    "\n",
    "    #Merjenje casa:\n",
    "    kon = time.time()\n",
    "    cas = kon - zac\n",
    "    return [int(st), None, cas]\n",
    "\n",
    "\n",
    "# Lokalno iskanje ==========================================================================================================================\n",
    "def lokalno_iskanje(graf, st_ponovitev):\n",
    "    moc_max = 0 #moc največje neodvisne mnozice vozlisc\n",
    "    max_mnozica_neod = [] #največja mnozica neodvisnih vozlisc\n",
    "    zac = time.time()\n",
    "\n",
    "    for i in range(st_ponovitev):\n",
    "        mnozica_neod = set() #mnozica neodvisnih vozlisc\n",
    "        mnozica_neod.add(graf.random_vertex()) #dodamo nakljucno vozlisce v seznam_neod\n",
    "        for v in graf.vertices():\n",
    "            if v in mnozica_neod: #ce je v ze v mnozica_neod, nadaljujemo\n",
    "                continue          #VPRASANJE: Ali je ta if zanka sploh potrebna?\n",
    "            else:\n",
    "                if not any(u in mnozica_neod for u in graf[v]): # ali je kateri od sosedov vozlišča v v množici? \n",
    "                                                                #VPRASANJE: Kaj pomeni graf[v]\n",
    "                    mnozica_neod.add(v)\n",
    "        if len(mnozica_neod) > moc_max: #iscemo najvecjo mnozico neodvisnih vozlisc\n",
    "            max_mnozica_neod = mnozica_neod\n",
    "            moc_max = len(mnozica_neod)\n",
    "    #Merjenje casa:\n",
    "    kon = time.time()\n",
    "    cas = kon - zac\n",
    "    return[moc_max, max_mnozica_neod, cas]"
   ]
  },
  {
   "cell_type": "code",
   "execution_count": 22,
   "metadata": {
    "collapsed": false
   },
   "outputs": [
   ],
   "source": [
    "# Funkcija za testiranje vseh treh algoritmov na nakljucnem grafu:\n",
    "# testiraj(stevilo vozlisc, verjetnost povezave med dvema vozliscema, stevilo ponovitev lokalnega iskanja) =======================================\n",
    "def testiraj(st_vozlisc, verjetnost, st_ponovitev=10):\n",
    "    rezultati = []\n",
    "    graf = graphs.RandomGNP(st_vozlisc, verjetnost)\n",
    "    rezultati.append(clp(graf))\n",
    "    rezultati.append(rclp(graf))\n",
    "    rezultati.append(lokalno_iskanje(graf, st_ponovitev))\n",
    "    return sum(rezultati, []) #Seznam seznamov se stakne v en sam seznam"
   ]
  },
  {
   "cell_type": "code",
   "execution_count": 23,
   "metadata": {
    "collapsed": false
   },
   "outputs": [
    {
     "data": {
      "text/plain": [
       "[7,\n",
       " [0, 1, 2, 4, 6, 7, 9],\n",
       " 0.003131866455078125,\n",
       " 7,\n",
       " None,\n",
       " 0.0009539127349853516,\n",
       " 7,\n",
       " {0, 1, 2, 4, 6, 7, 9},\n",
       " 0.003142833709716797]"
      ]
     },
     "execution_count": 23,
     "metadata": {
     },
     "output_type": "execute_result"
    }
   ],
   "source": [
    "testiraj(10,0.2,30)"
   ]
  },
  {
   "cell_type": "code",
   "execution_count": 24,
   "metadata": {
    "collapsed": false,
    "scrolled": true
   },
   "outputs": [
   ],
   "source": [
    "# Funkcija za izapis v CSV (izvede zgornjo funkcijo 'testiraj' na grafih s številom vozlisc od 1 do max_stevilo_vozlisc, pri dolocenih verjetnostih povezave dveh vozlisc in dolocenem stevilu ponovitev lokalnega iskanja):\n",
    "def izpis_csv(max_stevilo_vozlisc, verjetnost, st_ponovitev):\n",
    "    #trenutni_cas = time.strftime(\"%Y-%m-%d_%H-%M-%S\")\n",
    "    with open('test_{}.csv'.format('trenutni_cas'), 'wb') as csvfile:\n",
    "        filewriter = csv.writer(csvfile, delimiter=';',\n",
    "                                quotechar='|', quoting=csv.QUOTE_MINIMAL)\n",
    "\n",
    "        filewriter.writerow(['ST_VOZLISC', 'CLP_MAX_MOC', 'CLP_VOZLISCA_I', 'CLP_CAS', \n",
    "                             'RCLP_MAX_MOC', 'Neuporabno', 'RCLP_CAS',\n",
    "                             'LOKISK_MAX_MOC', 'LOKISK_VOZLISCA_I', 'LOKISK_CAS'])\n",
    "        for i in range(1, max_stevilo_vozlisc + 1):\n",
    "            filewriter.writerow(sum([[i], testiraj(i, verjetnost, st_ponovitev)], []))"
   ]
  },
  {
   "cell_type": "code",
   "execution_count": 25,
   "metadata": {
    "collapsed": false
   },
   "outputs": [
   ],
   "source": [
    "izpis_csv(8,0.3,4)"
   ]
  },
  {
   "cell_type": "code",
   "execution_count": 0,
   "metadata": {
    "collapsed": false
   },
   "outputs": [
   ],
   "source": [
   ]
  }
 ],
 "metadata": {
  "kernelspec": {
   "display_name": "SageMath (stable)",
   "language": "sagemath",
   "metadata": {
    "cocalc": {
     "description": "Open-source mathematical software system",
     "priority": 10,
     "url": "https://www.sagemath.org/"
    }
   },
   "name": "sagemath"
  },
  "language_info": {
   "codemirror_mode": {
    "name": "ipython",
    "version": 2
   },
   "file_extension": ".py",
   "mimetype": "text/x-python",
   "name": "python",
   "nbconvert_exporter": "python",
   "pygments_lexer": "ipython2",
   "version": "2.7.15"
  }
 },
 "nbformat": 4,
 "nbformat_minor": 0
}